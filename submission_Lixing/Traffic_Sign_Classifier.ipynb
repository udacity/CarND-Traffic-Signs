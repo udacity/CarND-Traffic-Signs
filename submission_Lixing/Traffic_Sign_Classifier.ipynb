{
 "cells": [
  {
   "cell_type": "markdown",
   "metadata": {},
   "source": [
    "# Self-Driving Car Engineer Nanodegree\n",
    "\n",
    "## Deep Learning\n",
    "\n",
    "## Project: Build a Traffic Sign Recognition Classifier\n",
    "\n",
    "In this notebook, a template is provided for you to implement your functionality in stages, which is required to successfully complete this project. If additional code is required that cannot be included in the notebook, be sure that the Python code is successfully imported and included in your submission if necessary. \n",
    "\n",
    "> **Note**: Once you have completed all of the code implementations, you need to finalize your work by exporting the iPython Notebook as an HTML document. Before exporting the notebook to html, all of the code cells need to have been run so that reviewers can see the final implementation and output. You can then export the notebook by using the menu above and navigating to  \\n\",\n",
    "    \"**File -> Download as -> HTML (.html)**. Include the finished document along with this notebook as your submission. \n",
    "\n",
    "In addition to implementing code, there is a writeup to complete. The writeup should be completed in a separate file, which can be either a markdown file or a pdf document. There is a [write up template](https://github.com/udacity/CarND-Traffic-Sign-Classifier-Project/blob/master/writeup_template.md) that can be used to guide the writing process. Completing the code template and writeup template will cover all of the [rubric points](https://review.udacity.com/#!/rubrics/481/view) for this project.\n",
    "\n",
    "The [rubric](https://review.udacity.com/#!/rubrics/481/view) contains \"Stand Out Suggestions\" for enhancing the project beyond the minimum requirements. The stand out suggestions are optional. If you decide to pursue the \"stand out suggestions\", you can include the code in this Ipython notebook and also discuss the results in the writeup file.\n",
    "\n",
    "\n",
    ">**Note:** Code and Markdown cells can be executed using the **Shift + Enter** keyboard shortcut. In addition, Markdown cells can be edited by typically double-clicking the cell to enter edit mode."
   ]
  },
  {
   "cell_type": "markdown",
   "metadata": {},
   "source": [
    "---\n",
    "## Step 0: Load The Data"
   ]
  },
  {
   "cell_type": "code",
   "execution_count": 1,
   "metadata": {
    "pycharm": {
     "name": "#%%\n"
    }
   },
   "outputs": [],
   "source": [
    "# Dependencies\n",
    "import pickle\n",
    "import matplotlib.pyplot as plt\n",
    "from helper_functions import data_processing as dp\n",
    "import numpy as np\n",
    "from sklearn.utils import shuffle\n",
    "import os"
   ]
  },
  {
   "cell_type": "code",
   "execution_count": 2,
   "metadata": {},
   "outputs": [
    {
     "name": "stdout",
     "output_type": "stream",
     "text": [
      "Successfully loaded the data!\n"
     ]
    }
   ],
   "source": [
    "# Load pickled data\n",
    "\n",
    "training_file = \"./datasets/normalized_data/train.p\"\n",
    "validation_file = \"./datasets/normalized_data/valid.p\"\n",
    "testing_file = \"./datasets/normalized_data/test.p\"\n",
    "\n",
    "with open(training_file, mode='rb') as f:\n",
    "    train = pickle.load(f)\n",
    "with open(validation_file, mode='rb') as f:\n",
    "    valid = pickle.load(f)\n",
    "with open(testing_file, mode='rb') as f:\n",
    "    test = pickle.load(f)\n",
    "    \n",
    "X_train, y_train = train['features'], train['labels']\n",
    "X_valid, y_valid = valid['features'], valid['labels']\n",
    "X_test, y_test = test['features'], test['labels']\n",
    "\n",
    "print(\"Successfully loaded the data!\")"
   ]
  },
  {
   "cell_type": "markdown",
   "metadata": {},
   "source": [
    "---\n",
    "\n",
    "## Step 1: Dataset Summary & Exploration\n",
    "\n",
    "The pickled data is a dictionary with 4 key/value pairs:\n",
    "\n",
    "- `'features'` is a 4D array containing raw pixel data of the traffic sign images, (num examples, width, height, channels).\n",
    "- `'labels'` is a 1D array containing the label/class id of the traffic sign. The file `signnames.csv` contains id -> name mappings for each id.\n",
    "- `'sizes'` is a list containing tuples, (width, height) representing the original width and height the image.\n",
    "- `'coords'` is a list containing tuples, (x1, y1, x2, y2) representing coordinates of a bounding box around the sign in the image. **THESE COORDINATES ASSUME THE ORIGINAL IMAGE. THE PICKLED DATA CONTAINS RESIZED VERSIONS (32 by 32) OF THESE IMAGES**\n",
    "\n",
    "Complete the basic data summary below. Use python, numpy and/or pandas methods to calculate the data summary rather than hard coding the results. For example, the [pandas shape method](http://pandas.pydata.org/pandas-docs/stable/generated/pandas.DataFrame.shape.html) might be useful for calculating some of the summary results. "
   ]
  },
  {
   "cell_type": "markdown",
   "metadata": {},
   "source": [
    "### Provide a Basic Summary of the Data Set Using Python, Numpy and/or Pandas"
   ]
  },
  {
   "cell_type": "code",
   "execution_count": 3,
   "metadata": {},
   "outputs": [
    {
     "name": "stdout",
     "output_type": "stream",
     "text": [
      "Number of training examples = 34799\n",
      "Number of testing examples = 12630\n",
      "Image data shape = (32, 32)\n",
      "Number of classes = 43\n"
     ]
    }
   ],
   "source": [
    "### Replace each question mark with the appropriate value. \n",
    "### Use python, pandas or numpy methods rather than hard coding the results\n",
    "\n",
    "# Number of training examples\n",
    "n_train = 34799\n",
    "\n",
    "# Number of validation examples\n",
    "n_validation = 4410\n",
    "\n",
    "# Number of testing examples.\n",
    "n_test = 12630\n",
    "\n",
    "# What's the shape of an traffic sign image?\n",
    "image_shape = (32, 32)\n",
    "\n",
    "# How many unique classes/labels there are in the dataset.\n",
    "n_classes = 43\n",
    "\n",
    "print(\"Number of training examples =\", n_train)\n",
    "print(\"Number of testing examples =\", n_test)\n",
    "print(\"Image data shape =\", image_shape)\n",
    "print(\"Number of classes =\", n_classes)"
   ]
  },
  {
   "cell_type": "markdown",
   "metadata": {},
   "source": [
    "### Include an exploratory visualization of the dataset"
   ]
  },
  {
   "cell_type": "markdown",
   "metadata": {},
   "source": [
    "Visualize the German Traffic Signs Dataset using the pickled file(s). This is open ended, suggestions include: plotting traffic sign images, plotting the count of each sign, etc. \n",
    "\n",
    "The [Matplotlib](http://matplotlib.org/) [examples](http://matplotlib.org/examples/index.html) and [gallery](http://matplotlib.org/gallery.html) pages are a great resource for doing visualizations in Python.\n",
    "\n",
    "**NOTE:** It's recommended you start with something simple first. If you wish to do more, come back to it after you've completed the rest of the sections. It can be interesting to look at the distribution of classes in the training, validation and test set. Is the distribution the same? Are there more examples of some classes than others?"
   ]
  },
  {
   "cell_type": "code",
   "execution_count": 4,
   "metadata": {},
   "outputs": [
    {
     "data": {
      "text/plain": [
       "<matplotlib.image.AxesImage at 0x7fbd4f2126a0>"
      ]
     },
     "execution_count": 4,
     "metadata": {},
     "output_type": "execute_result"
    },
    {
     "data": {
      "image/png": "[encoded data removed]",
      "text/plain": [
       "<Figure size 432x288 with 1 Axes>"
      ]
     },
     "metadata": {
      "needs_background": "light"
     },
     "output_type": "display_data"
    }
   ],
   "source": [
    "### Data exploration visualization code goes here.\n",
    "### Feel free to use as many code cells as needed.\n",
    "# Visualizations will be shown in the notebook.\n",
    "%matplotlib inline\n",
    "\n",
    "plt.imshow(X_train[10000])"
   ]
  },
  {
   "cell_type": "markdown",
   "metadata": {},
   "source": [
    "----\n",
    "\n",
    "## Step 2: Design and Test a Model Architecture\n",
    "\n",
    "Design and implement a deep learning model that learns to recognize traffic signs. Train and test your model on the [German Traffic Sign Dataset](http://benchmark.ini.rub.de/?section=gtsrb&subsection=dataset).\n",
    "\n",
    "The LeNet-5 implementation shown in the [classroom](https://classroom.udacity.com/nanodegrees/nd013/parts/fbf77062-5703-404e-b60c-95b78b2f3f9e/modules/6df7ae49-c61c-4bb2-a23e-6527e69209ec/lessons/601ae704-1035-4287-8b11-e2c2716217ad/concepts/d4aca031-508f-4e0b-b493-e7b706120f81) at the end of the CNN lesson is a solid starting point. You'll have to change the number of classes and possibly the preprocessing, but aside from that it's plug and play! \n",
    "\n",
    "With the LeNet-5 solution from the lecture, you should expect a validation set accuracy of about 0.89. To meet specifications, the validation set accuracy will need to be at least 0.93. It is possible to get an even higher accuracy, but 0.93 is the minimum for a successful project submission. \n",
    "\n",
    "There are various aspects to consider when thinking about this problem:\n",
    "\n",
    "- Neural network architecture (is the network over or underfitting?)\n",
    "- Play around preprocessing techniques (normalization, rgb to grayscale, etc)\n",
    "- Number of examples per label (some have more than others).\n",
    "- Generate fake data.\n",
    "\n",
    "Here is an example of a [published baseline model on this problem](http://yann.lecun.com/exdb/publis/pdf/sermanet-ijcnn-11.pdf). It's not required to be familiar with the approach used in the paper but, it's good practice to try to read papers like these."
   ]
  },
  {
   "cell_type": "markdown",
   "metadata": {},
   "source": [
    "### Pre-process the Data Set (normalization, grayscale, etc.)\n",
    "\n",
    "Minimally, the image data should be normalized so that the data has mean zero and equal variance. For image data, `(pixel - 128)/ 128` is a quick way to approximately normalize the data and can be used in this project.\n",
    "\n",
    "Other pre-processing steps are optional. You can try different techniques to see if it improves performance. \n",
    "\n",
    "Use the code cell (or multiple code cells, if necessary) to implement the first step of your project."
   ]
  },
  {
   "cell_type": "markdown",
   "metadata": {
    "pycharm": {
     "name": "#%% md\n"
    }
   },
   "source": [
    "#### 1. Turn the data set into greyscale"
   ]
  },
  {
   "cell_type": "code",
   "execution_count": 5,
   "metadata": {},
   "outputs": [
    {
     "data": {
      "text/plain": [
       "<matplotlib.image.AxesImage at 0x7fbd4f15f3c8>"
      ]
     },
     "execution_count": 5,
     "metadata": {},
     "output_type": "execute_result"
    },
    {
     "data": {
      "image/png": "[encoded data removed]",
      "text/plain": [
       "<Figure size 432x288 with 1 Axes>"
      ]
     },
     "metadata": {
      "needs_background": "light"
     },
     "output_type": "display_data"
    }
   ],
   "source": [
    "### Preprocess the data here. It is required to normalize the data. Other preprocessing steps could include \n",
    "### converting to grayscale, etc.\n",
    "### Feel free to use as many code cells as needed.\n",
    "\n",
    "# dp.img_array_rgb2gray(X_train[10000])\n",
    "X_test_grey = []\n",
    "for i in range(X_test.shape[0]):\n",
    "    X_test_grey.append(dp.img_array_rgb2gray(X_test[i]))\n",
    "X_test_grey = np.array(X_test_grey)\n",
    "\n",
    "X_train_grey = []\n",
    "for i in range(X_train.shape[0]):\n",
    "    X_train_grey.append(dp.img_array_rgb2gray(X_train[i]))\n",
    "X_train_grey = np.array(X_train_grey).astype(\"float32\")\n",
    "\n",
    "X_valid_grey = []\n",
    "for i in range(X_valid.shape[0]):\n",
    "    X_valid_grey.append(dp.img_array_rgb2gray(X_valid[i]))\n",
    "X_valid_grey = np.array(X_valid_grey)\n",
    "\n",
    "plt.imshow(X_train_grey[10000], cmap=\"gray\")"
   ]
  },
  {
   "cell_type": "markdown",
   "metadata": {
    "pycharm": {
     "name": "#%% md\n"
    }
   },
   "source": [
    "#### 2. Shuffle the data and add a dimension to X_train"
   ]
  },
  {
   "cell_type": "code",
   "execution_count": 6,
   "metadata": {
    "pycharm": {
     "name": "#%%\n"
    }
   },
   "outputs": [],
   "source": [
    "X_train_grey = X_train_grey[:, :, :, np.newaxis]\n",
    "X_valid_grey = X_valid_grey[:, :, :, np.newaxis]\n",
    "X_test_grey = X_test_grey[:, :, :, np.newaxis]\n",
    "X_train_grey, y_train = shuffle(X_train_grey, y_train)"
   ]
  },
  {
   "cell_type": "markdown",
   "metadata": {},
   "source": [
    "### Model Architecture\n",
    "\n",
    "#### 1. The Tensorflow Model"
   ]
  },
  {
   "cell_type": "code",
   "execution_count": 7,
   "metadata": {
    "scrolled": true
   },
   "outputs": [
    {
     "name": "stderr",
     "output_type": "stream",
     "text": [
      "/home/lixing/anaconda3/envs/IntroToTensorFlow/lib/python3.6/site-packages/tensorflow/python/framework/dtypes.py:516: FutureWarning: Passing (type, 1) or '1type' as a synonym of type is deprecated; in a future version of numpy, it will be understood as (type, (1,)) / '(1,)type'.\n",
      "  _np_qint8 = np.dtype([(\"qint8\", np.int8, 1)])\n",
      "/home/lixing/anaconda3/envs/IntroToTensorFlow/lib/python3.6/site-packages/tensorflow/python/framework/dtypes.py:517: FutureWarning: Passing (type, 1) or '1type' as a synonym of type is deprecated; in a future version of numpy, it will be understood as (type, (1,)) / '(1,)type'.\n",
      "  _np_quint8 = np.dtype([(\"quint8\", np.uint8, 1)])\n",
      "/home/lixing/anaconda3/envs/IntroToTensorFlow/lib/python3.6/site-packages/tensorflow/python/framework/dtypes.py:518: FutureWarning: Passing (type, 1) or '1type' as a synonym of type is deprecated; in a future version of numpy, it will be understood as (type, (1,)) / '(1,)type'.\n",
      "  _np_qint16 = np.dtype([(\"qint16\", np.int16, 1)])\n",
      "/home/lixing/anaconda3/envs/IntroToTensorFlow/lib/python3.6/site-packages/tensorflow/python/framework/dtypes.py:519: FutureWarning: Passing (type, 1) or '1type' as a synonym of type is deprecated; in a future version of numpy, it will be understood as (type, (1,)) / '(1,)type'.\n",
      "  _np_quint16 = np.dtype([(\"quint16\", np.uint16, 1)])\n",
      "/home/lixing/anaconda3/envs/IntroToTensorFlow/lib/python3.6/site-packages/tensorflow/python/framework/dtypes.py:520: FutureWarning: Passing (type, 1) or '1type' as a synonym of type is deprecated; in a future version of numpy, it will be understood as (type, (1,)) / '(1,)type'.\n",
      "  _np_qint32 = np.dtype([(\"qint32\", np.int32, 1)])\n",
      "/home/lixing/anaconda3/envs/IntroToTensorFlow/lib/python3.6/site-packages/tensorflow/python/framework/dtypes.py:525: FutureWarning: Passing (type, 1) or '1type' as a synonym of type is deprecated; in a future version of numpy, it will be understood as (type, (1,)) / '(1,)type'.\n",
      "  np_resource = np.dtype([(\"resource\", np.ubyte, 1)])\n",
      "/home/lixing/anaconda3/envs/IntroToTensorFlow/lib/python3.6/site-packages/tensorboard/compat/tensorflow_stub/dtypes.py:541: FutureWarning: Passing (type, 1) or '1type' as a synonym of type is deprecated; in a future version of numpy, it will be understood as (type, (1,)) / '(1,)type'.\n",
      "  _np_qint8 = np.dtype([(\"qint8\", np.int8, 1)])\n",
      "/home/lixing/anaconda3/envs/IntroToTensorFlow/lib/python3.6/site-packages/tensorboard/compat/tensorflow_stub/dtypes.py:542: FutureWarning: Passing (type, 1) or '1type' as a synonym of type is deprecated; in a future version of numpy, it will be understood as (type, (1,)) / '(1,)type'.\n",
      "  _np_quint8 = np.dtype([(\"quint8\", np.uint8, 1)])\n",
      "/home/lixing/anaconda3/envs/IntroToTensorFlow/lib/python3.6/site-packages/tensorboard/compat/tensorflow_stub/dtypes.py:543: FutureWarning: Passing (type, 1) or '1type' as a synonym of type is deprecated; in a future version of numpy, it will be understood as (type, (1,)) / '(1,)type'.\n",
      "  _np_qint16 = np.dtype([(\"qint16\", np.int16, 1)])\n",
      "/home/lixing/anaconda3/envs/IntroToTensorFlow/lib/python3.6/site-packages/tensorboard/compat/tensorflow_stub/dtypes.py:544: FutureWarning: Passing (type, 1) or '1type' as a synonym of type is deprecated; in a future version of numpy, it will be understood as (type, (1,)) / '(1,)type'.\n",
      "  _np_quint16 = np.dtype([(\"quint16\", np.uint16, 1)])\n",
      "/home/lixing/anaconda3/envs/IntroToTensorFlow/lib/python3.6/site-packages/tensorboard/compat/tensorflow_stub/dtypes.py:545: FutureWarning: Passing (type, 1) or '1type' as a synonym of type is deprecated; in a future version of numpy, it will be understood as (type, (1,)) / '(1,)type'.\n",
      "  _np_qint32 = np.dtype([(\"qint32\", np.int32, 1)])\n",
      "/home/lixing/anaconda3/envs/IntroToTensorFlow/lib/python3.6/site-packages/tensorboard/compat/tensorflow_stub/dtypes.py:550: FutureWarning: Passing (type, 1) or '1type' as a synonym of type is deprecated; in a future version of numpy, it will be understood as (type, (1,)) / '(1,)type'.\n",
      "  np_resource = np.dtype([(\"resource\", np.ubyte, 1)])\n"
     ]
    }
   ],
   "source": [
    "### Define your architecture here.\n",
    "### Feel free to use as many code cells as needed.\n",
    "from helper_functions.lenet_structure import *"
   ]
  },
  {
   "cell_type": "markdown",
   "metadata": {},
   "source": [
    "### Train, Validate and Test the Model\n",
    "\n",
    "A validation set can be used to assess how well the model is performing. A low accuracy on the training and validation\n",
    "sets imply underfitting. A high accuracy on the training set but low accuracy on the validation set implies overfitting."
   ]
  },
  {
   "cell_type": "markdown",
   "metadata": {
    "pycharm": {
     "name": "#%% md\n"
    }
   },
   "source": [
    "#### 0. Whether to start a new training session"
   ]
  },
  {
   "cell_type": "code",
   "execution_count": 8,
   "metadata": {
    "pycharm": {
     "name": "#%%\n"
    }
   },
   "outputs": [],
   "source": [
    "new_train = False\n",
    "saved_file_prefix = \"./lenet\""
   ]
  },
  {
   "cell_type": "markdown",
   "metadata": {
    "pycharm": {
     "name": "#%% md\n"
    }
   },
   "source": [
    "#### 1. Build the tensorflow optimizer"
   ]
  },
  {
   "cell_type": "code",
   "execution_count": 9,
   "metadata": {
    "collapsed": true
   },
   "outputs": [
    {
     "name": "stdout",
     "output_type": "stream",
     "text": [
      "WARNING:tensorflow:From /home/lixing/Workspace/udacity_carnd/Project3_LeNet_Traffic_Signs/CarND-Traffic-Sign-Classifier-Project/submission_Lixing/helper_functions/lenet_structure.py:29: The name tf.truncated_normal is deprecated. Please use tf.random.truncated_normal instead.\n",
      "\n",
      "WARNING:tensorflow:From /home/lixing/Workspace/udacity_carnd/Project3_LeNet_Traffic_Signs/CarND-Traffic-Sign-Classifier-Project/submission_Lixing/helper_functions/lenet_structure.py:70: The name tf.nn.max_pool is deprecated. Please use tf.nn.max_pool2d instead.\n",
      "\n",
      "WARNING:tensorflow:\n",
      "The TensorFlow contrib module will not be included in TensorFlow 2.0.\n",
      "For more information, please see:\n",
      "  * https://github.com/tensorflow/community/blob/master/rfcs/20180907-contrib-sunset.md\n",
      "  * https://github.com/tensorflow/addons\n",
      "  * https://github.com/tensorflow/io (for I/O related ops)\n",
      "If you depend on functionality not listed there, please file an issue.\n",
      "\n",
      "WARNING:tensorflow:From /home/lixing/anaconda3/envs/IntroToTensorFlow/lib/python3.6/site-packages/tensorflow/contrib/layers/python/layers/layers.py:1634: flatten (from tensorflow.python.layers.core) is deprecated and will be removed in a future version.\n",
      "Instructions for updating:\n",
      "Use keras.layers.flatten instead.\n",
      "WARNING:tensorflow:Entity <bound method Flatten.call of <tensorflow.python.layers.core.Flatten object at 0x7fbd3e7fe710>> could not be transformed and will be executed as-is. Please report this to the AutgoGraph team. When filing the bug, set the verbosity to 10 (on Linux, `export AUTOGRAPH_VERBOSITY=10`) and attach the full output. Cause: converting <bound method Flatten.call of <tensorflow.python.layers.core.Flatten object at 0x7fbd3e7fe710>>: AttributeError: module 'gast' has no attribute 'Index'\n",
      "WARNING: Entity <bound method Flatten.call of <tensorflow.python.layers.core.Flatten object at 0x7fbd3e7fe710>> could not be transformed and will be executed as-is. Please report this to the AutgoGraph team. When filing the bug, set the verbosity to 10 (on Linux, `export AUTOGRAPH_VERBOSITY=10`) and attach the full output. Cause: converting <bound method Flatten.call of <tensorflow.python.layers.core.Flatten object at 0x7fbd3e7fe710>>: AttributeError: module 'gast' has no attribute 'Index'\n",
      "WARNING:tensorflow:From /home/lixing/Workspace/udacity_carnd/Project3_LeNet_Traffic_Signs/CarND-Traffic-Sign-Classifier-Project/submission_Lixing/helper_functions/lenet_structure.py:88: calling dropout (from tensorflow.python.ops.nn_ops) with keep_prob is deprecated and will be removed in a future version.\n",
      "Instructions for updating:\n",
      "Please use `rate` instead of `keep_prob`. Rate should be set to `rate = 1 - keep_prob`.\n",
      "WARNING:tensorflow:From <ipython-input-9-db9236644141>:14: softmax_cross_entropy_with_logits (from tensorflow.python.ops.nn_ops) is deprecated and will be removed in a future version.\n",
      "Instructions for updating:\n",
      "\n",
      "Future major versions of TensorFlow will allow gradients to flow\n",
      "into the labels input on backprop by default.\n",
      "\n",
      "See `tf.nn.softmax_cross_entropy_with_logits_v2`.\n",
      "\n"
     ]
    }
   ],
   "source": [
    "x = tf.placeholder(tf.float32, (None, 32, 32, 1))\n",
    "y = tf.placeholder(tf.int32, (None))\n",
    "one_hot_y = tf.one_hot(y, n_classes)\n",
    "keep_prob = tf.placeholder(tf.float32)\n",
    "\n",
    "tf_logits = lenet_tf(x, keep_prob)\n",
    "'''\n",
    "else:\n",
    "    with tf.Session() as sess:\n",
    "        restorer = tf.train.import_meta_graph(saved_file_prefix + \".meta\")\n",
    "        restorer.restore(sess, tf.train.latest_checkpoint(\"./\"))\n",
    "        graph = tf.get_default_graph()\n",
    "'''\n",
    "cross_entropy = tf.nn.softmax_cross_entropy_with_logits(labels=one_hot_y, logits=tf_logits)\n",
    "loss_operation = tf.reduce_mean(cross_entropy)\n",
    "optimizer = tf.train.AdamOptimizer(learning_rate = learning_rate_dacayed)\n",
    "training_operation = optimizer.minimize(loss_operation, global_step=global_step)"
   ]
  },
  {
   "cell_type": "markdown",
   "metadata": {
    "pycharm": {
     "name": "#%% md\n"
    }
   },
   "source": [
    "#### 2. Build the tensorflow evaluator"
   ]
  },
  {
   "cell_type": "code",
   "execution_count": 10,
   "metadata": {
    "pycharm": {
     "name": "#%%\n"
    }
   },
   "outputs": [],
   "source": [
    "correct_prediction = tf.equal(tf.argmax(tf_logits, 1), tf.argmax(one_hot_y, 1))\n",
    "accuracy_operation = tf.reduce_mean(tf.cast(correct_prediction, tf.float32))\n",
    "\n",
    "saver = tf.train.Saver()\n",
    "\n",
    "def evaluate(X_data, y_data):\n",
    "    num_examples = len(X_data)\n",
    "    total_accuracy = 0\n",
    "    sess = tf.get_default_session()\n",
    "    for offset in range(0, num_examples, BATCH_SIZE):\n",
    "        batch_x, batch_y = X_data[offset:offset+BATCH_SIZE], y_data[offset:offset+BATCH_SIZE]\n",
    "        accuracy = sess.run(accuracy_operation, feed_dict={x: batch_x, y: batch_y, keep_prob: 1})\n",
    "        total_accuracy += (accuracy * len(batch_x))\n",
    "    return total_accuracy / num_examples"
   ]
  },
  {
   "cell_type": "markdown",
   "metadata": {
    "pycharm": {
     "name": "#%% md\n"
    }
   },
   "source": [
    "#### 3. Train the Model"
   ]
  },
  {
   "cell_type": "code",
   "execution_count": 20,
   "metadata": {
    "pycharm": {
     "name": "#%%\n"
    }
   },
   "outputs": [
    {
     "name": "stdout",
     "output_type": "stream",
     "text": [
      "Training...\n",
      "EPOCH 1 ...\n",
      "Validation Accuracy = 0.459 Training Accuracy = 0.510\n",
      "\n",
      "EPOCH 2 ...\n",
      "EPOCH 3 ...\n",
      "EPOCH 4 ...\n",
      "EPOCH 5 ...\n",
      "EPOCH 6 ...\n",
      "Validation Accuracy = 0.878 Training Accuracy = 0.920\n",
      "\n",
      "EPOCH 7 ...\n",
      "EPOCH 8 ...\n",
      "EPOCH 9 ...\n",
      "EPOCH 10 ...\n",
      "EPOCH 11 ...\n",
      "Validation Accuracy = 0.939 Training Accuracy = 0.976\n",
      "\n",
      "EPOCH 12 ...\n",
      "EPOCH 13 ...\n",
      "EPOCH 14 ...\n",
      "EPOCH 15 ...\n",
      "EPOCH 16 ...\n",
      "Validation Accuracy = 0.940 Training Accuracy = 0.984\n",
      "\n",
      "EPOCH 17 ...\n",
      "EPOCH 18 ...\n",
      "EPOCH 19 ...\n",
      "EPOCH 20 ...\n",
      "EPOCH 21 ...\n",
      "Validation Accuracy = 0.940 Training Accuracy = 0.987\n",
      "\n",
      "EPOCH 22 ...\n",
      "EPOCH 23 ...\n",
      "EPOCH 24 ...\n",
      "EPOCH 25 ...\n",
      "EPOCH 26 ...\n",
      "Validation Accuracy = 0.959 Training Accuracy = 0.992\n",
      "\n",
      "EPOCH 27 ...\n",
      "EPOCH 28 ...\n",
      "EPOCH 29 ...\n",
      "EPOCH 30 ...\n",
      "EPOCH 31 ...\n",
      "Validation Accuracy = 0.953 Training Accuracy = 0.994\n",
      "\n",
      "EPOCH 32 ...\n",
      "EPOCH 33 ...\n",
      "EPOCH 34 ...\n",
      "EPOCH 35 ...\n",
      "EPOCH 36 ...\n",
      "Validation Accuracy = 0.953 Training Accuracy = 0.995\n",
      "\n",
      "EPOCH 37 ...\n",
      "EPOCH 38 ...\n",
      "EPOCH 39 ...\n",
      "EPOCH 40 ...\n",
      "EPOCH 41 ...\n",
      "Validation Accuracy = 0.955 Training Accuracy = 0.996\n",
      "\n",
      "EPOCH 42 ...\n",
      "EPOCH 43 ...\n",
      "EPOCH 44 ...\n",
      "EPOCH 45 ...\n",
      "EPOCH 46 ...\n",
      "Validation Accuracy = 0.960 Training Accuracy = 0.997\n",
      "\n",
      "EPOCH 47 ...\n",
      "EPOCH 48 ...\n",
      "EPOCH 49 ...\n",
      "EPOCH 50 ...\n",
      "EPOCH 51 ...\n",
      "Validation Accuracy = 0.956 Training Accuracy = 0.997\n",
      "\n",
      "EPOCH 52 ...\n",
      "EPOCH 53 ...\n",
      "EPOCH 54 ...\n",
      "EPOCH 55 ...\n",
      "Model saved. Final Result:\n",
      "Validation Accuracy = 0.961 Training Accuracy = 0.998\n"
     ]
    }
   ],
   "source": [
    "### Uncomment the following code for a new round of training\n",
    "with tf.Session() as sess:\n",
    "    sess.run(tf.global_variables_initializer())\n",
    "    if new_train:\n",
    "        list_training_accuracy = [0]\n",
    "        list_validation_accuracy = [0]\n",
    "        stabled_times = 0\n",
    "\n",
    "        print(\"Training...\")\n",
    "        for i in range(EPOCHS):\n",
    "            X_train_grey, y_train = shuffle(X_train_grey, y_train)\n",
    "            for offset in range(0, n_train, BATCH_SIZE):\n",
    "                end = offset + BATCH_SIZE\n",
    "                batch_x, batch_y = X_train_grey[offset:end], y_train[offset:end]\n",
    "                sess.run(training_operation, feed_dict={x: batch_x, y: batch_y, keep_prob:drop_out_rate})\n",
    "\n",
    "            list_validation_accuracy.append(evaluate(X_valid_grey, y_valid))\n",
    "            list_training_accuracy.append(evaluate(X_train_grey, y_train))\n",
    "            print(\"EPOCH {} ...\".format(i+1))\n",
    "            if i % 5 == 0:\n",
    "                print(\"Validation Accuracy = {:.3f}\".format(list_validation_accuracy[-1]), \"Training Accuracy = {:.3f}\".format(list_training_accuracy[-1]))\n",
    "                print()\n",
    "\n",
    "            if abs(list_validation_accuracy[-1] - list_validation_accuracy[-2]) <= stable_gap:\n",
    "                stabled_times += 1\n",
    "            else:\n",
    "                stabled_times = 0\n",
    "\n",
    "            if stabled_times >= quit_stabled_times:\n",
    "                break\n",
    "\n",
    "        saver.save(sess, './lenet')\n",
    "        print(\"Model saved. Final Result:\")\n",
    "        print(\"Validation Accuracy = {:.3f}\".format(list_validation_accuracy[-1]), \"Training Accuracy = {:.3f}\".format(list_training_accuracy[-1]))"
   ]
  },
  {
   "cell_type": "markdown",
   "metadata": {},
   "source": [
    "#### 4. Evaluate the Model"
   ]
  },
  {
   "cell_type": "code",
   "execution_count": 21,
   "metadata": {
    "pycharm": {
     "name": "#%%\n"
    }
   },
   "outputs": [
    {
     "name": "stdout",
     "output_type": "stream",
     "text": [
      "INFO:tensorflow:Restoring parameters from ./lenet\n",
      "Test Accuracy = 0.939\n"
     ]
    }
   ],
   "source": [
    "with tf.Session() as sess:\n",
    "    # saver.restore(sess, './lenet')\n",
    "    # sess.run(tf.global_variables_initializer())\n",
    "    #saver = tf.train.import_meta_graph('./lenet.meta')\n",
    "    saver.restore(sess, tf.train.latest_checkpoint('./'))\n",
    "\n",
    "    test_accuracy = evaluate(X_test_grey, y_test)\n",
    "    print(\"Test Accuracy = {:.3f}\".format(test_accuracy))"
   ]
  },
  {
   "cell_type": "markdown",
   "metadata": {},
   "source": [
    "#### 5. Draw the Training Curve"
   ]
  },
  {
   "cell_type": "code",
   "execution_count": 22,
   "metadata": {
    "pycharm": {
     "name": "#%%\n"
    }
   },
   "outputs": [
    {
     "data": {
      "image/png": "[encoded data removed]",
      "text/plain": [
       "<Figure size 432x288 with 1 Axes>"
      ]
     },
     "metadata": {
      "needs_background": "light"
     },
     "output_type": "display_data"
    }
   ],
   "source": [
    "### Uncomment the following code for a new round of training\n",
    "if new_train:\n",
    "    xdata = np.arange(i + 2)\n",
    "    y_upper = np.ones(i + 2) * np.max(list_training_accuracy)\n",
    "    y_valid_upper = np.ones(i + 2) * np.max(list_validation_accuracy)\n",
    "    y_test_upper = np.ones(i + 2) * test_accuracy\n",
    "\n",
    "    fig = plt.figure()\n",
    "    ax = fig.add_subplot(1, 1, 1)\n",
    "    ax.plot(xdata, np.array(list_validation_accuracy), color='tab:blue')\n",
    "    ax.plot(xdata, np.array(list_training_accuracy), color='tab:green')\n",
    "    ax.plot(xdata, y_upper, color='tab:red')\n",
    "    ax.plot(xdata, y_valid_upper, color='tab:orange')\n",
    "    ax.plot(xdata, y_test_upper, color='tab:pink')\n",
    "\n",
    "    ax.set_xlim([5,i+5])\n",
    "    ax.set_ylim([0.7, 1.05])\n",
    "\n",
    "    fig.savefig(\"./references/results/training_curve.jpg\")"
   ]
  },
  {
   "cell_type": "markdown",
   "metadata": {},
   "source": [
    "---\n",
    "\n",
    "## Step 3: Test a Model on New Images\n",
    "\n",
    "To give yourself more insight into how your model is working, download at least five pictures of German traffic signs from the web and use your model to predict the traffic sign type.\n",
    "\n",
    "You may find `signnames.csv` useful as it contains mappings from the class id (integer) to the actual sign name."
   ]
  },
  {
   "cell_type": "markdown",
   "metadata": {},
   "source": [
    "### Load and Output the Images"
   ]
  },
  {
   "cell_type": "code",
   "execution_count": 35,
   "metadata": {
    "collapsed": true
   },
   "outputs": [
    {
     "data": {
      "image/png": "[encoded data removed]",
      "text/plain": [
       "<Figure size 432x288 with 5 Axes>"
      ]
     },
     "metadata": {
      "needs_background": "light"
     },
     "output_type": "display_data"
    }
   ],
   "source": [
    "### Load the images and plot them here.\n",
    "### Feel free to use as many code cells as needed.\n",
    "root_dir = \"./references/test_image/normalized/\"\n",
    "\n",
    "accurate_pred = np.array([11, 18, 25, 26, 1])\n",
    "\n",
    "fig = plt.figure(1)\n",
    "subplot_index = 151\n",
    "img_list = []\n",
    "for filename in sorted(os.listdir(root_dir)):\n",
    "    plt.subplot(subplot_index)\n",
    "    img_list.append(plt.imread(root_dir+filename))\n",
    "    plt.imshow(img_list[-1], cmap=\"gray\")\n",
    "    subplot_index += 1"
   ]
  },
  {
   "cell_type": "markdown",
   "metadata": {},
   "source": [
    "### Predict the Sign Type for Each Image"
   ]
  },
  {
   "cell_type": "code",
   "execution_count": 43,
   "metadata": {
    "collapsed": true
   },
   "outputs": [
    {
     "name": "stdout",
     "output_type": "stream",
     "text": [
      "INFO:tensorflow:Restoring parameters from ./lenet\n",
      "The predicted classes for 5 new images are:\n",
      " [11 40 25 28 25]\n"
     ]
    }
   ],
   "source": [
    "# Form an nx32x32x1 nparray as input.\n",
    "input_img_arr = np.array(img_list, dtype=np.int32)\n",
    "input_img_arr = input_img_arr[:, :, :, np.newaxis]\n",
    "\n",
    "tf_softmax = tf.nn.softmax(tf_logits)\n",
    "\n",
    "# Feed the input into the model\n",
    "with tf.Session() as sess:\n",
    "    saver.restore(sess, tf.train.latest_checkpoint('./'))\n",
    "    logits_predicted = sess.run(tf_logits, feed_dict={x:input_img_arr, keep_prob:1})\n",
    "    softmax_predicted = sess.run(tf_softmax, feed_dict={x:input_img_arr, keep_prob:1})\n",
    "\n",
    "# Print the result logits\n",
    "\n",
    "prediction = np.argmax(softmax_predicted, axis=1)\n",
    "# print(softmax_pricted)\n",
    "print(\"The predicted classes for 5 new images are:\\n\", prediction)"
   ]
  },
  {
   "cell_type": "markdown",
   "metadata": {},
   "source": [
    "### Analyze Performance"
   ]
  },
  {
   "cell_type": "code",
   "execution_count": 44,
   "metadata": {
    "collapsed": true
   },
   "outputs": [
    {
     "name": "stdout",
     "output_type": "stream",
     "text": [
      "The accuracy in predicting the 5 new images is: 40.0 %\n"
     ]
    }
   ],
   "source": [
    "### Calculate the accuracy for these 5 new images.\n",
    "accuracy_5_img = np.sum(prediction==accurate_pred)\n",
    "\n",
    "print(\"The accuracy in predicting the 5 new images is:\", 100 * accuracy_5_img/accurate_pred.size, \"%\")"
   ]
  },
  {
   "cell_type": "markdown",
   "metadata": {},
   "source": [
    "### Output Top 5 Softmax Probabilities For Each Image Found on the Web"
   ]
  },
  {
   "cell_type": "code",
   "execution_count": 53,
   "metadata": {
    "collapsed": true,
    "pycharm": {
     "name": "#%%\n"
    }
   },
   "outputs": [
    {
     "name": "stdout",
     "output_type": "stream",
     "text": [
      "For image  0 , the top 5 softmax values are:\n",
      " [1. 0. 0. 0. 0.]\n",
      "With the corresponding indices:\n",
      " [11 30 28 40 18] \n",
      "\n",
      "For image  1 , the top 5 softmax values are:\n",
      " [0.476 0.104 0.091 0.066 0.06 ]\n",
      "With the corresponding indices:\n",
      " [40 12 28 37 38] \n",
      "\n",
      "For image  2 , the top 5 softmax values are:\n",
      " [1. 0. 0. 0. 0.]\n",
      "With the corresponding indices:\n",
      " [25 18 11 30 24] \n",
      "\n",
      "For image  3 , the top 5 softmax values are:\n",
      " [0.979 0.013 0.005 0.001 0.001]\n",
      "With the corresponding indices:\n",
      " [28 12 23 25 30] \n",
      "\n",
      "For image  4 , the top 5 softmax values are:\n",
      " [0.6   0.138 0.105 0.05  0.023]\n",
      "With the corresponding indices:\n",
      " [25 28  3 14 30] \n",
      "\n"
     ]
    }
   ],
   "source": [
    "### Print out the top five softmax probabilities for the predictions on the German traffic sign images found on the web. \n",
    "### Feel free to use as many code cells as needed.\n",
    "with tf.Session() as sess:\n",
    "    top_values = sess.run(tf.nn.top_k(tf.constant(softmax_predicted), k=5))\n",
    "\n",
    "top_5_softmax = np.round(top_values.values, decimals=3)\n",
    "\n",
    "top_5_indices = top_values.indices\n",
    "\n",
    "for i in range(5):\n",
    "    print(\"For image \", i, \", the top 5 softmax values are:\\n\", top_5_softmax[i])\n",
    "    print(\"With the corresponding indices:\\n\", top_5_indices[i], '\\n')\n"
   ]
  }
 ],
 "metadata": {
  "anaconda-cloud": {},
  "kernelspec": {
   "display_name": "Python 3",
   "language": "python",
   "name": "python3"
  },
  "language_info": {
   "codemirror_mode": {
    "name": "ipython",
    "version": 3
   },
   "file_extension": ".py",
   "mimetype": "text/x-python",
   "name": "python",
   "nbconvert_exporter": "python",
   "pygments_lexer": "ipython3",
   "version": "3.6.10"
  }
 },
 "nbformat": 4,
 "nbformat_minor": 1
}